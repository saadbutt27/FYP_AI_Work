{
 "cells": [
  {
   "cell_type": "code",
   "execution_count": 3,
   "metadata": {},
   "outputs": [
    {
     "name": "stdout",
     "output_type": "stream",
     "text": [
      "Defaulting to user installation because normal site-packages is not writeable\n",
      "Collecting groq\n",
      "  Downloading groq-0.13.1-py3-none-any.whl.metadata (14 kB)\n",
      "Requirement already satisfied: anyio<5,>=3.5.0 in c:\\users\\saad2\\appdata\\local\\packages\\pythonsoftwarefoundation.python.3.12_qbz5n2kfra8p0\\localcache\\local-packages\\python312\\site-packages (from groq) (4.2.0)\n",
      "Requirement already satisfied: distro<2,>=1.7.0 in c:\\users\\saad2\\appdata\\local\\packages\\pythonsoftwarefoundation.python.3.12_qbz5n2kfra8p0\\localcache\\local-packages\\python312\\site-packages (from groq) (1.9.0)\n",
      "Requirement already satisfied: httpx<1,>=0.23.0 in c:\\users\\saad2\\appdata\\local\\packages\\pythonsoftwarefoundation.python.3.12_qbz5n2kfra8p0\\localcache\\local-packages\\python312\\site-packages (from groq) (0.26.0)\n",
      "Requirement already satisfied: pydantic<3,>=1.9.0 in c:\\users\\saad2\\appdata\\local\\packages\\pythonsoftwarefoundation.python.3.12_qbz5n2kfra8p0\\localcache\\local-packages\\python312\\site-packages (from groq) (2.7.4)\n",
      "Requirement already satisfied: sniffio in c:\\users\\saad2\\appdata\\local\\packages\\pythonsoftwarefoundation.python.3.12_qbz5n2kfra8p0\\localcache\\local-packages\\python312\\site-packages (from groq) (1.3.0)\n",
      "Requirement already satisfied: typing-extensions<5,>=4.10 in c:\\users\\saad2\\appdata\\local\\packages\\pythonsoftwarefoundation.python.3.12_qbz5n2kfra8p0\\localcache\\local-packages\\python312\\site-packages (from groq) (4.12.2)\n",
      "Requirement already satisfied: idna>=2.8 in c:\\users\\saad2\\appdata\\local\\packages\\pythonsoftwarefoundation.python.3.12_qbz5n2kfra8p0\\localcache\\local-packages\\python312\\site-packages (from anyio<5,>=3.5.0->groq) (3.6)\n",
      "Requirement already satisfied: certifi in c:\\users\\saad2\\appdata\\local\\packages\\pythonsoftwarefoundation.python.3.12_qbz5n2kfra8p0\\localcache\\local-packages\\python312\\site-packages (from httpx<1,>=0.23.0->groq) (2023.11.17)\n",
      "Requirement already satisfied: httpcore==1.* in c:\\users\\saad2\\appdata\\local\\packages\\pythonsoftwarefoundation.python.3.12_qbz5n2kfra8p0\\localcache\\local-packages\\python312\\site-packages (from httpx<1,>=0.23.0->groq) (1.0.2)\n",
      "Requirement already satisfied: h11<0.15,>=0.13 in c:\\users\\saad2\\appdata\\local\\packages\\pythonsoftwarefoundation.python.3.12_qbz5n2kfra8p0\\localcache\\local-packages\\python312\\site-packages (from httpcore==1.*->httpx<1,>=0.23.0->groq) (0.14.0)\n",
      "Requirement already satisfied: annotated-types>=0.4.0 in c:\\users\\saad2\\appdata\\local\\packages\\pythonsoftwarefoundation.python.3.12_qbz5n2kfra8p0\\localcache\\local-packages\\python312\\site-packages (from pydantic<3,>=1.9.0->groq) (0.6.0)\n",
      "Requirement already satisfied: pydantic-core==2.18.4 in c:\\users\\saad2\\appdata\\local\\packages\\pythonsoftwarefoundation.python.3.12_qbz5n2kfra8p0\\localcache\\local-packages\\python312\\site-packages (from pydantic<3,>=1.9.0->groq) (2.18.4)\n",
      "Downloading groq-0.13.1-py3-none-any.whl (109 kB)\n",
      "   ---------------------------------------- 0.0/109.1 kB ? eta -:--:--\n",
      "   ------------------------------ --------- 81.9/109.1 kB 2.3 MB/s eta 0:00:01\n",
      "   ---------------------------------------- 109.1/109.1 kB 2.1 MB/s eta 0:00:00\n",
      "Installing collected packages: groq\n",
      "Successfully installed groq-0.13.1\n",
      "Note: you may need to restart the kernel to use updated packages.\n"
     ]
    },
    {
     "name": "stderr",
     "output_type": "stream",
     "text": [
      "\n",
      "[notice] A new release of pip is available: 24.1 -> 24.3.1\n",
      "[notice] To update, run: C:\\Users\\saad2\\AppData\\Local\\Microsoft\\WindowsApps\\PythonSoftwareFoundation.Python.3.12_qbz5n2kfra8p0\\python.exe -m pip install --upgrade pip\n"
     ]
    }
   ],
   "source": [
    "# %pip install python-dotenv\n",
    "%pip install groq"
   ]
  },
  {
   "cell_type": "code",
   "execution_count": 11,
   "metadata": {},
   "outputs": [],
   "source": [
    "from dotenv import load_dotenv\n",
    "import os\n",
    "from groq import Groq\n",
    "\n",
    "# Load environment variables from .env file\n",
    "load_dotenv()\n",
    "\n",
    "client = Groq(\n",
    "    api_key=os.environ.get(\"GROQ_API_KEY\"),\n",
    ")"
   ]
  },
  {
   "cell_type": "code",
   "execution_count": 12,
   "metadata": {},
   "outputs": [],
   "source": [
    "def ai_model(input, model, temp, p_val):\n",
    "    \"\"\"\"\"\"\n",
    "    chat_completion = client.chat.completions.create(\n",
    "        messages=[\n",
    "            {\n",
    "                \"role\": \"system\",\n",
    "                \"content\": \"\"\"\n",
    "                    You are an Expert agent in identifying actions, and entities to perform the actions on, from the given natural language input for \n",
    "                    the game characters. You identify the appropriate action (a one word) from the sentence, and the entity. You also generate a \n",
    "                    response based on the character's personality in natural language. The input you will be given will consist of the available \n",
    "                    actions for the character, the entities/objects in the environment for the character, a natural language input, and a personality\n",
    "                    description or backstory of the character. Based on the inputs, you identify appropriate action, preferably from the action list, \n",
    "                    the entity, and a response. You output in JSON with an array of actions, entities, and a natural language response. The response \n",
    "                    output should be precise and a short sentence, and output a JSON only.\n",
    "                \"\"\"\n",
    "            },\n",
    "            # Set a user message for the assistant to respond to.\n",
    "            {\n",
    "                \"role\": \"user\",\n",
    "                \"content\": input\n",
    "            }\n",
    "        ],\n",
    "        model=model,\n",
    "        temperature=temp,\n",
    "        top_p=p_val,\n",
    "    )\n",
    "    # Get the response from the chat completion\n",
    "    response = chat_completion.choices[0].message.content\n",
    "    # Return the response\n",
    "    return response"
   ]
  },
  {
   "cell_type": "markdown",
   "metadata": {},
   "source": [
    "---"
   ]
  },
  {
   "cell_type": "code",
   "execution_count": 13,
   "metadata": {},
   "outputs": [
    {
     "name": "stdout",
     "output_type": "stream",
     "text": [
      "{\n",
      "\"actions\": [\"Shoot\"],\n",
      "\"entities\": [\"Enemy 1\"],\n",
      "\"response\": \"Target acquired, firing at the enemy with the red hat.\"\n",
      "}\n"
     ]
    }
   ],
   "source": [
    "input = \"\"\"\n",
    "Available actions: \n",
    "    1.Walk (moving to a point)\n",
    "    2. Shoot (firing at a target)\n",
    "Objects/Entities list:\n",
    "    1. Enemy 1 (enemy wearing red hat)\n",
    "    2. Enemy 2 (enemy wearing blue hat)\n",
    "Personality / Backstory: A disciplined and brave soldier.\n",
    "Natural language input: Fire at the person with red hat.\n",
    "\"\"\"\n",
    "\n",
    "# llama3-70b-8192    llama3-8b-8192\n",
    "model=\"llama3-70b-8192\"\n",
    "temp=0.6\n",
    "p_val=0.9\n",
    "result = ai_model(input, model, temp, p_val)\n",
    "\n",
    "print(result)"
   ]
  },
  {
   "cell_type": "code",
   "execution_count": 14,
   "metadata": {},
   "outputs": [
    {
     "name": "stdout",
     "output_type": "stream",
     "text": [
      "{\n",
      "    \"actions\": [\"Shoot\"],\n",
      "    \"entities\": [\"Enemy 1\"],\n",
      "    \"response\": \"I take aim and fire at the enemy with the red hat.\"\n",
      "}\n"
     ]
    }
   ],
   "source": [
    "input = \"\"\"\n",
    "Available actions: \n",
    "    1.Walk (moving to a point)\n",
    "    2. Shoot (firing at a target)\n",
    "Objects/Entities list:\n",
    "    1. Enemy 1 (enemy wearing red hat)\n",
    "    2. Enemy 2 (enemy wearing blue hat)\n",
    "Personality / Backstory: A disciplined and brave soldier.\n",
    "Natural language input: Fire at the person with red hat.\n",
    "\"\"\"\n",
    "\n",
    "# llama3-70b-8192    llama3-8b-8192\n",
    "model=\"llama3-8b-8192\"\n",
    "temp=0.6\n",
    "p_val=0.9\n",
    "result = ai_model(input, model, temp, p_val)\n",
    "\n",
    "print(result)"
   ]
  },
  {
   "cell_type": "markdown",
   "metadata": {},
   "source": [
    "---"
   ]
  },
  {
   "cell_type": "code",
   "execution_count": 10,
   "metadata": {},
   "outputs": [
    {
     "name": "stdout",
     "output_type": "stream",
     "text": [
      "{\n",
      "    \"actions\": [\"Pick\"],\n",
      "    \"entities\": [\"Health Pack\"],\n",
      "    \"response\": \"I'll grab that health pack to keep our team safe, can't risk losing anyone.\"\n",
      "}\n"
     ]
    }
   ],
   "source": [
    "input = \"\"\"\n",
    "Available Actions:\n",
    "\n",
    "Walk (moving to a point)\n",
    "Pick (picking up an object)\n",
    "Objects/Entities list:\n",
    "\n",
    "Health Pack\n",
    "Ammo Box\n",
    "Personality/Backstory: A cautious medic who prioritizes team survival.\n",
    "\n",
    "Natural Language Input: \"Grab that health pack on the ground.\"\n",
    "\"\"\"\n",
    "\n",
    "result = ai_model(input)\n",
    "\n",
    "print(result)"
   ]
  },
  {
   "cell_type": "code",
   "execution_count": 11,
   "metadata": {},
   "outputs": [
    {
     "name": "stdout",
     "output_type": "stream",
     "text": [
      "{\n",
      "  \"actions\": [\"Attack\"],\n",
      "  \"entities\": [\"Enemy with a crossbow\"],\n",
      "  \"response\": \"I charge forward, sword drawn, ready to take on that treacherous crossbow-wielding foe!\"\n",
      "}\n"
     ]
    }
   ],
   "source": [
    "input = \"\"\"\n",
    "Available Actions:\n",
    "\n",
    "Attack (melee attack)\n",
    "Shoot (firing at a target)\n",
    "Defend (taking a defensive stance)\n",
    "Objects/Entities list:\n",
    "\n",
    "Enemy with a shield\n",
    "Enemy with a crossbow\n",
    "Personality/Backstory: A bold knight who values honor and bravery in combat.\n",
    "\n",
    "Natural Language Input: \"Prepare for battle and hit the crossbow guy!\"\n",
    "\"\"\"\n",
    "\n",
    "result = ai_model(input)\n",
    "\n",
    "print(result)"
   ]
  },
  {
   "cell_type": "code",
   "execution_count": 12,
   "metadata": {},
   "outputs": [
    {
     "name": "stdout",
     "output_type": "stream",
     "text": [
      "{\n",
      "\"actions\": [\"Hide\"],\n",
      "\"entities\": [\"Nearby Wall\"],\n",
      "\"response\": \"I slip behind the wall, staying quiet to avoid detection.\"\n",
      "}\n"
     ]
    }
   ],
   "source": [
    "input = \"\"\"\n",
    "Available Actions:\n",
    "Run (sprinting to a point)\n",
    "Hide (finding cover)\n",
    "Scan (searching the area for threats)\n",
    "\n",
    "Objects/Entities list:\n",
    "Bushes\n",
    "Nearby Wall\n",
    "Drone flying overhead\n",
    "\n",
    "Personality/Backstory: A stealthy scout who avoids direct combat and focuses on reconnaissance.\n",
    "\n",
    "Natural Language Input: \"Quick, hide behind that wall!\"\n",
    "\"\"\"\n",
    "\n",
    "result = ai_model(input)\n",
    "\n",
    "print(result)"
   ]
  },
  {
   "cell_type": "code",
   "execution_count": 13,
   "metadata": {},
   "outputs": [
    {
     "name": "stdout",
     "output_type": "stream",
     "text": [
      "{\n",
      "  \"actions\": [\"Repair\"],\n",
      "  \"entities\": [\"Broken Fence\"],\n",
      "  \"response\": \"I'll get to work on fixing that broken fence right away.\"\n",
      "}\n"
     ]
    }
   ],
   "source": [
    "input = \"\"\"\n",
    "Available Actions:\n",
    "Build (constructing an object)\n",
    "Repair (fixing a damaged object)\n",
    "\n",
    "Objects/Entities list:\n",
    "Broken Fence\n",
    "Watchtower\n",
    "Personality/Backstory: A resourceful engineer who excels at keeping defenses strong.\n",
    "\n",
    "Natural Language Input: \"Fix the fence to keep the enemies out!\"\n",
    "\"\"\"\n",
    "\n",
    "result = ai_model(input)\n",
    "\n",
    "print(result)"
   ]
  }
 ],
 "metadata": {
  "kernelspec": {
   "display_name": "Python 3",
   "language": "python",
   "name": "python3"
  },
  "language_info": {
   "codemirror_mode": {
    "name": "ipython",
    "version": 3
   },
   "file_extension": ".py",
   "mimetype": "text/x-python",
   "name": "python",
   "nbconvert_exporter": "python",
   "pygments_lexer": "ipython3",
   "version": "3.12.8"
  }
 },
 "nbformat": 4,
 "nbformat_minor": 2
}
